{
  "nbformat": 4,
  "nbformat_minor": 0,
  "metadata": {
    "colab": {
      "provenance": [],
      "authorship_tag": "ABX9TyNnzEwpkFqa6vQJYMZ0IbxL",
      "include_colab_link": true
    },
    "kernelspec": {
      "name": "python3",
      "display_name": "Python 3"
    },
    "language_info": {
      "name": "python"
    }
  },
  "cells": [
    {
      "cell_type": "markdown",
      "metadata": {
        "id": "view-in-github",
        "colab_type": "text"
      },
      "source": [
        "<a href=\"https://colab.research.google.com/github/tanush3404/ppsassigned/blob/main/RockPaperScissors.ipynb\" target=\"_parent\"><img src=\"https://colab.research.google.com/assets/colab-badge.svg\" alt=\"Open In Colab\"/></a>"
      ]
    },
    {
      "cell_type": "code",
      "execution_count": null,
      "metadata": {
        "colab": {
          "base_uri": "https://localhost:8080/"
        },
        "id": "MOXSQ2vR_1Ex",
        "outputId": "f44e51aa-a9b4-4bc4-acb9-1a37e78739af"
      },
      "outputs": [
        {
          "output_type": "stream",
          "name": "stdout",
          "text": [
            "Enter your name :Tanush\n",
            "Welcome Tanush\n",
            "Enter Rock/ Paper/ Scissor :Rock\n",
            "Computer option :Rock\n",
            "Tanush option :Rock\n",
            "Tie\n",
            "-------------------------\n",
            "\n",
            "Round No: 1\n",
            "------ Score Board ------\n",
            "Tanush: 0 | Computer: 0\n",
            "===============================\n",
            "\n",
            "Enter Rock/ Paper/ Scissor :Scissors\n",
            "Computer option :Rock\n",
            "Tanush option :Scissors\n",
            "Choose a valid option to play this game.\n",
            "-------------------------\n",
            "\n",
            "Round No: 2\n",
            "------ Score Board ------\n",
            "Tanush: 0 | Computer: 0\n",
            "===============================\n",
            "\n",
            "Enter Rock/ Paper/ Scissor :Paper\n",
            "Computer option :Paper\n",
            "Tanush option :Paper\n",
            "Tie\n",
            "-------------------------\n",
            "\n",
            "Round No: 3\n",
            "------ Score Board ------\n",
            "Tanush: 0 | Computer: 0\n",
            "===============================\n",
            "\n",
            "Enter Rock/ Paper/ Scissor :Rock\n",
            "Computer option :Paper\n",
            "Tanush option :Rock\n",
            "Choose a valid option to play this game.\n",
            "-------------------------\n",
            "\n",
            "Round No: 4\n",
            "------ Score Board ------\n",
            "Tanush: 0 | Computer: 0\n",
            "===============================\n",
            "\n"
          ]
        }
      ],
      "source": [
        "import random\n",
        "options=['Rock','Paper','Scissor']\n",
        "name=input(\"Enter your name :\")\n",
        "ComputerScore=0 \n",
        "PlayerScore=0\n",
        "NumberOfRounds=0\n",
        "gameOn=True\n",
        "print(f\"Welcome {name.title()}\")\n",
        "while NumberOfRounds<5:\n",
        "  ComputerOption=random.choice(options)\n",
        "  PlayerOption=input(\"Enter Rock/ Paper/ Scissor :\").title()\n",
        "  print(f\"Computer option :{ComputerOption}\")\n",
        "  print(f\"{name.title()} option :{PlayerOption}\")\n",
        "  NumberOfRounds += 1\n",
        "  if ComputerOption==PlayerOption:\n",
        "    print('Tie')\n",
        "  elif (ComputerOption=='Rock' and PlayerOption == 'Scissor') or (ComputerOption=='Scissor' and PlayerOption=='Paper') or (ComputerOption=='Paper' and ComputerOption=='Rock'):\n",
        "    print(\"Computer wins\")\n",
        "    ComputerScore += 1\n",
        "  elif (PlayerOption=='Rock' and ComputerOption == 'Scissor') or (PlayerOption=='Scissor' and ComputerOption=='Paper') or (PlayerOption=='Paper' and ComputerOption=='Rock'):\n",
        "    print(f\"{name.title()} wins\")\n",
        "    PlayerScore += 1\n",
        "  else:\n",
        "    print(\"Choose a valid option to play this game.\") \n",
        "  print(\"-------------------------\")\n",
        "  print(\"\")\n",
        "  print(f\"Round No: {NumberOfRounds}\")\n",
        "  print(\"------ Score Board ------\")\n",
        "  print(f\"{name.title()}: {PlayerScore} | Computer: {ComputerScore}\")\n",
        "  print(\"===============================\")\n",
        "  print(\"\")\n",
        "  if NumberOfRounds==5:\n",
        "    gameOn=False\n",
        "    break\n",
        "if PlayerScore==ComputerScore:\n",
        "  print(\"Draw!!\")\n",
        "elif PlayerScore>ComputerScore:\n",
        "  print(f\"Congrats {name.title()}, You won the game!!\")\n",
        "else:\n",
        "  print(f\"Oops Computer won the game!! Better luck next time {name.title()}!\")\n",
        "\n",
        " \n",
        "\n"
      ]
    },
    {
      "cell_type": "code",
      "source": [],
      "metadata": {
        "id": "o2Db8BfHDRvT"
      },
      "execution_count": null,
      "outputs": []
    }
  ]
}